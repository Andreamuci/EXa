{
 "cells": [
  {
   "cell_type": "markdown",
   "id": "878d4e3a-00c1-433c-a6f3-df545ab604fa",
   "metadata": {},
   "source": [
    "# Determine the Capacitance of an Unknown Electrolytic Capacitor"
   ]
  },
  {
   "cell_type": "markdown",
   "id": "d81bcbf0-cdd7-48c2-b0e4-422f73cf1d0b",
   "metadata": {},
   "source": [
    "The charge in a capacitor is proportial to the voltage across the capacitor, aka capacitor voltage $V_C$ which is changing over time during charing or discharging:\n",
    "\n",
    "$$\n",
    "\\begin{eqnarray}\n",
    "Q(t) = CV_C(t) \\\\\n",
    "\\end{eqnarray}\n",
    "$$\n",
    "\n",
    "The quantities vary in time according to:\n",
    "\n",
    "$$\n",
    "\\begin{eqnarray}\n",
    "\\dot{Q}(t) = C\\dot{V}_C(t)\n",
    "\\end{eqnarray}\n",
    "$$\n",
    "\n",
    "The rate of change of the capacitor's charge is the current into or out of the capacitor. When the charge is depleting, i.e. $(\\dot{Q}(t) < 0)$, the current is positive, i.e. $I>0$. This motivates the \"$-$\" in the following equation\n",
    "\n",
    "$$\n",
    "-\\dot{Q}(t) = I(t)\n",
    "$$\n",
    "\n",
    "\n",
    "\n",
    "In the circuit is only one current $I$, since the is no junction. The current is the same everywhere.\n",
    "\n"
   ]
  },
  {
   "cell_type": "markdown",
   "id": "fc0edf80-a182-4723-b30b-e35117596573",
   "metadata": {},
   "source": [
    "## Discharging\n",
    "\n",
    "When **discharging** a capacitor through a resistor, the discharge current is flowing out of the capacitor through the resistor yielding a voltage drop $V_R$ (aka resistor voltage) equal to the voltage across the capacitor since $R$ and $C$ are parallel:\n",
    "\n",
    "$$\n",
    "V_C(t) = V_R(t)\n",
    "$$\n",
    "\n",
    "Applying Ohm's law yields:\n",
    "\n",
    "$$\n",
    "V_R(t) = RI(t) \n",
    "$$\n",
    "\n",
    "Combing the equations:\n",
    "\n",
    "$$\n",
    "V_C(t) = V_R(t) = RI(t) = -R\\dot{Q}(t) = -RC\\dot{V}_C(t)\n",
    "$$\n",
    "\n",
    "$$\n",
    "\\dot{V}_C(t) = -\\frac{1}{RC}V_C(t)\n",
    "$$\n",
    "\n",
    "$$\n",
    "\\dot{V}_C(t) = \\left(-\\frac{1}{RC}\\right)V_C(t)\n",
    "$$\n",
    "\n",
    "This shows that the time dependent function $V_C(t)$ is proportional to its own derivative $\\dot{V}_C(t)$. This is called a differential equation:\n",
    "\n",
    "$$\n",
    "\\dot{V}_C(t) \\propto V_C(t)\n",
    "$$\n",
    "\n",
    "\n",
    "The task is to find a function $V_C(t)$ which fulfills this differential equation.\n",
    "<br>\n",
    "The starting point, aka initial condition, must be known in order to solve the equation uniquely.\n",
    "<br>\n",
    "The initial condition is the initial voltage of the charged capacitor, just before discharging is started:\n",
    "\n",
    "$$\n",
    "V_C(0) = V_0\n",
    "$$\n",
    "\n",
    "The final solution:\n",
    "\n",
    "$$\n",
    "V_C(t) = V_0e^{-\\frac{t}{RC}}\n",
    "$$"
   ]
  },
  {
   "cell_type": "markdown",
   "id": "7ee89c4e-46bd-469c-be88-e2de665223a4",
   "metadata": {},
   "source": [
    "## Charging\n",
    "\n",
    "To solve the charging problem it is easier to investigate the current first, instead of the voltages, and to derive the voltages from the current afterwards.\n",
    "\n",
    "The constant source voltage $V_S$ is used to charge the capacitor. \n",
    "\n",
    "$$\n",
    "V_S =  V_C(t) + V_R(t)\n",
    "$$\n",
    "\n",
    "Some extra knowledge about capacitors and the charge current is needed to solve the problem. When the capacitor is initially compeletely discharged no electric field exists in the capacitor, which also means that there is no voltage difference across the capacitor. While charging this capacitor voltage over time and couteracts the charging. After a long time the capacitor voltage becomes equal to the source voltage and the charing stops.\n",
    "\n",
    "Final state: \n",
    "\n",
    "$$\n",
    "V_C(t\\rightarrow\\infty) = V_S\n",
    "$$\n",
    "\n",
    "Initially the capacitor voltage is 0V and the resistor is exposed to the full source voltage. Thus the initial charge current is only determined by the current limiting resistor and the source voltage.\n",
    "<br>\n",
    "Initial condition: \n",
    "\n",
    "$$\n",
    "V_C(0) = 0{\\rm V} \\Rightarrow I_C(0) = V_S/R\n",
    "$$\n",
    "\n",
    "\n",
    "\n",
    "\n",
    "\n",
    "$$\n",
    "\\dot{V}_C + \\dot{V}_R = \\dot{V}_S = 0\n",
    "$$\n",
    "\n",
    "$$\n",
    "\\frac{\\dot{Q}(t)}{C} + R\\dot{I}(t) = 0\n",
    "$$\n",
    "\n",
    "$$\n",
    "\\dot{I}(t) = -\\frac{1}{RC}I(t)\n",
    "$$\n",
    "\n",
    "Solution for the current:\n",
    "\n",
    "$$\n",
    "I(t) = I_0e^{-\\frac{t}{RC}} = \\frac{V_S}{R}e^{-\\frac{t}{RC}}\n",
    "$$\n",
    "\n",
    "Determine voltages from the current:\n",
    "\n",
    "$$\n",
    "V_C(t) = V_S - V_R(t) = V_S - RI(t)\n",
    "$$\n",
    "\n",
    "$$\n",
    "V_C(t) = V_S - R\\left(\\frac{V_S}{R}e^{-\\frac{t}{RC}}\\right) = V_S\\left(1-e^{-\\frac{t}{RC}}\\right)\n",
    "$$"
   ]
  },
  {
   "cell_type": "code",
   "execution_count": 1,
   "id": "3c3f6fa1-72d6-456f-a19e-9f0c0ed1f7dd",
   "metadata": {},
   "outputs": [
    {
     "ename": "ModuleNotFoundError",
     "evalue": "No module named 'matplotlib'",
     "output_type": "error",
     "traceback": [
      "\u001b[1;31m---------------------------------------------------------------------------\u001b[0m",
      "\u001b[1;31mModuleNotFoundError\u001b[0m                       Traceback (most recent call last)",
      "Cell \u001b[1;32mIn [1], line 2\u001b[0m\n\u001b[0;32m      1\u001b[0m \u001b[38;5;28;01mimport\u001b[39;00m \u001b[38;5;21;01mnumpy\u001b[39;00m \u001b[38;5;28;01mas\u001b[39;00m \u001b[38;5;21;01mnp\u001b[39;00m\n\u001b[1;32m----> 2\u001b[0m \u001b[38;5;28;01mimport\u001b[39;00m \u001b[38;5;21;01mmatplotlib\u001b[39;00m\u001b[38;5;21;01m.\u001b[39;00m\u001b[38;5;21;01mpyplot\u001b[39;00m \u001b[38;5;28;01mas\u001b[39;00m \u001b[38;5;21;01mplt\u001b[39;00m\n",
      "\u001b[1;31mModuleNotFoundError\u001b[0m: No module named 'matplotlib'"
     ]
    }
   ],
   "source": [
    "import numpy as np\n",
    "import matplotlib.pyplot as plt"
   ]
  },
  {
   "cell_type": "code",
   "execution_count": null,
   "id": "9fe732a7-592e-44df-bb41-b1577153e94a",
   "metadata": {},
   "outputs": [],
   "source": [
    "R = 1e6 # 1 mega Ohm\n",
    "C = 1e-6 # 1 micro Farad\n",
    "V0 = VS = 5 # V\n",
    "\n",
    "t_c = R*C # characteristic time constant\n",
    "\n",
    "# times to evaluate the functions at\n",
    "t = np.arange(0.,5.,0.001)"
   ]
  },
  {
   "cell_type": "code",
   "execution_count": null,
   "id": "322e973b-d112-4dc2-b5d4-97695a9f87ca",
   "metadata": {},
   "outputs": [],
   "source": [
    "def V_discharge(t, V0=1.0, R=1.e6, C=1.e-6):\n",
    "    V = V0*np.exp(-1/(R*C)*t)\n",
    "    return(V)"
   ]
  },
  {
   "cell_type": "code",
   "execution_count": null,
   "id": "ba81f858-30cc-4426-a2bb-fdb161e9f233",
   "metadata": {},
   "outputs": [],
   "source": [
    "def V_charge(t, VS=1.0, R=1.e6, C=1.e-6):\n",
    "    V = VS*(1-np.exp(-1/(R*C)*t))\n",
    "    return(V)"
   ]
  },
  {
   "cell_type": "code",
   "execution_count": null,
   "id": "eb2a64db-7a17-455f-aa31-0ae66752eada",
   "metadata": {},
   "outputs": [],
   "source": [
    "fig1, ax1 = plt.subplots(figsize=(8,6), dpi=136)\n",
    "ax1.plot(t,V_discharge(t,V0,R,C), label=\"discharging\")\n",
    "ax1.plot(t,V_charge(t,VS,R,C), label=\"charging\")\n",
    "ax1.set_xlabel(\"Time $t$ in s\")\n",
    "ax1.set_ylabel(\"Capacitor Voltage $V_C$ in V\")\n",
    "ax1.set_title(\"Charging and Discharging of Capacitor\")\n",
    "ax1.set_xlim(0,5)\n",
    "ax1.set_ylim(0,5)\n",
    "ax1.grid(True)\n",
    "plt.plot()"
   ]
  },
  {
   "cell_type": "code",
   "execution_count": null,
   "id": "c14129c0-5728-4ba1-90d5-b76d2f2f169d",
   "metadata": {},
   "outputs": [],
   "source": []
  },
  {
   "cell_type": "code",
   "execution_count": null,
   "id": "e0c7cc01-9498-415c-9249-294cadd7bebd",
   "metadata": {},
   "outputs": [],
   "source": [
    "!pip install pyserial"
   ]
  },
  {
   "cell_type": "code",
   "execution_count": 70,
   "id": "f0eecbe1-97ac-4adf-bfc1-f20ecaac48f6",
   "metadata": {},
   "outputs": [
    {
     "name": "stdout",
     "output_type": "stream",
     "text": [
      "1\n"
     ]
    }
   ],
   "source": [
    "import serial, serial.tools.list_ports\n",
    "\n",
    "list_ports = serial.tools.list_ports.comports()\n",
    "\n",
    "print(len(list_ports))\n",
    "\n",
    "PORT = \"COM13\"\n",
    "BAUDRATE = 115200\n",
    "with serial.Serial() as ser:\n",
    "    ser.baudrate = BAUDRATE\n",
    "    ser.port = PORT\n",
    "    ser.open()"
   ]
  },
  {
   "cell_type": "code",
   "execution_count": 69,
   "id": "e1cef9ee-a8b8-4e8d-bdc8-dde98a181d0a",
   "metadata": {},
   "outputs": [
    {
     "ename": "SyntaxError",
     "evalue": "invalid syntax. Perhaps you forgot a comma? (1228235769.py, line 2)",
     "output_type": "error",
     "traceback": [
      "\u001b[1;36m  Cell \u001b[1;32mIn [69], line 2\u001b[1;36m\u001b[0m\n\u001b[1;33m    options= lambda : [print(port) for port in list_ports]\u001b[0m\n\u001b[1;37m                      ^\u001b[0m\n\u001b[1;31mSyntaxError\u001b[0m\u001b[1;31m:\u001b[0m invalid syntax. Perhaps you forgot a comma?\n"
     ]
    }
   ],
   "source": [
    "w = widgets.Dropdown(\n",
    "    options = lis\n",
    "    value='Addition',\n",
    "    description='Task:',\n",
    ")\n",
    "\n",
    "def on_change(change):\n",
    "    if change['type'] == 'change' and change['name'] == 'value':\n",
    "        print(\"changed to %s\" % change['new'])\n",
    "\n",
    "w.observe(on_change)\n",
    "\n",
    "display(w)"
   ]
  }
 ],
 "metadata": {
  "kernelspec": {
   "display_name": "Python 3 (ipykernel)",
   "language": "python",
   "name": "python3"
  },
  "language_info": {
   "codemirror_mode": {
    "name": "ipython",
    "version": 3
   },
   "file_extension": ".py",
   "mimetype": "text/x-python",
   "name": "python",
   "nbconvert_exporter": "python",
   "pygments_lexer": "ipython3",
   "version": "3.10.7"
  }
 },
 "nbformat": 4,
 "nbformat_minor": 5
}
