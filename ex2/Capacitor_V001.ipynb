{
 "cells": [
  {
   "cell_type": "markdown",
   "id": "878d4e3a-00c1-433c-a6f3-df545ab604fa",
   "metadata": {},
   "source": [
    "# Determine the Capacitance of an Unknown Electrolytic Capacitor"
   ]
  },
  {
   "cell_type": "code",
   "execution_count": null,
   "id": "14db3815-1bb6-45cf-a530-49b08a8ed068",
   "metadata": {},
   "outputs": [],
   "source": []
  },
  {
   "cell_type": "code",
   "execution_count": null,
   "id": "9fe732a7-592e-44df-bb41-b1577153e94a",
   "metadata": {},
   "outputs": [],
   "source": []
  }
 ],
 "metadata": {
  "kernelspec": {
   "display_name": "Python 3 (ipykernel)",
   "language": "python",
   "name": "python3"
  },
  "language_info": {
   "codemirror_mode": {
    "name": "ipython",
    "version": 3
   },
   "file_extension": ".py",
   "mimetype": "text/x-python",
   "name": "python",
   "nbconvert_exporter": "python",
   "pygments_lexer": "ipython3",
   "version": "3.9.13"
  }
 },
 "nbformat": 4,
 "nbformat_minor": 5
}
