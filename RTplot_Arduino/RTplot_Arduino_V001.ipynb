{
 "cells": [
  {
   "cell_type": "markdown",
   "id": "441dff85-0489-46c8-9bc5-61c9e051b2b5",
   "metadata": {},
   "source": [
    "# Real-Time Plotting of Arduino Data\n",
    "\n",
    "**UNDER DEVELOPMENT!**\n",
    "\n",
    "Based on YT video<br>\n",
    "*_Create GUI apps in Jupyter using ipywidgets_ by **Everton Colling**\n",
    "\n",
    "https://www.youtube.com/watch?v=f0WmLo8AVxo\n",
    "\n"
   ]
  },
  {
   "cell_type": "code",
   "execution_count": 2,
   "id": "a02c9b9c-c790-458d-a71e-4d1b968fee23",
   "metadata": {},
   "outputs": [],
   "source": [
    "# import libraries\n",
    "from ipywidgets.widgets import Label, FloatProgress, FloatSlider, Button\n",
    "from ipywidgets.widgets import Layout, HBox, VBox\n",
    "from IPython.display import display\n",
    "import bqplot as bq\n",
    "import numpy as np\n",
    "import time\n",
    "import threading\n",
    "import serial"
   ]
  },
  {
   "cell_type": "code",
   "execution_count": 15,
   "id": "18e24967-fe2c-45f4-ae8c-ce1897233c27",
   "metadata": {},
   "outputs": [],
   "source": [
    "# flag \n",
    "flag = True\n",
    "\n",
    "x = np.linspace(0, 2*np.pi, 500)\n",
    "dx = x[1] - x[0]\n",
    "y = 1 + np.sin(x)"
   ]
  },
  {
   "cell_type": "code",
   "execution_count": 31,
   "id": "ba0c931b-ccf3-462b-ab81-1983eef36faa",
   "metadata": {},
   "outputs": [],
   "source": [
    "b_stop = Button(\n",
    "    description = \"Stop\", \n",
    "    icon=\"stop\",\n",
    "    button_style=\"warning\",\n",
    "    layout = Layout(width=\"100px\")\n",
    ")\n",
    "\n",
    "def stop_click(b):\n",
    "    global flag\n",
    "    flag = False\n",
    "    \n",
    "b_stop.on_click(stop_click)\n",
    "\n",
    "w1=FloatProgress(\n",
    "    value=y[-1],\n",
    "    min=0,\n",
    "    max=2,\n",
    "    description=\"PV:\",\n",
    "    style={\"description_width\": \"initial\"},\n",
    "    layout=Layout(width=\"365px\")\n",
    ")\n",
    "\n",
    "w2=Label(\n",
    "    value=str(np.round(y[-1],2)),\n",
    "    layout = Layout(margin=\"0 10px 0 31px\")\n",
    ")\n",
    "\n",
    "w12 = HBox(\n",
    "    children=(w1, w2),\n",
    "    layout=Layout(margin=\"0 0 0 43px\")\n",
    ")\n",
    "\n",
    "wA = FloatSlider(\n",
    "    value=0,\n",
    "    min=0,\n",
    "    max=0.5,\n",
    "    step=0.01,\n",
    "    description=\"Noise:\",\n",
    "    layout=Layout(width=\"490px\", margin=\"0 0 5px 0\")\n",
    ")"
   ]
  },
  {
   "cell_type": "code",
   "execution_count": 33,
   "id": "67b97b13-2016-445a-a300-5334252abb2c",
   "metadata": {},
   "outputs": [
    {
     "data": {
      "application/vnd.jupyter.widget-view+json": {
       "model_id": "ef44eebf8e774607a9fff8ec1b18a2ce",
       "version_major": 2,
       "version_minor": 0
      },
      "text/plain": [
       "Figure(axes=[Axis(label='x(t)', scale=LinearScale()), Axis(label='y(t)', orientation='vertical', scale=LinearS…"
      ]
     },
     "execution_count": 33,
     "metadata": {},
     "output_type": "execute_result"
    }
   ],
   "source": [
    "# Plot elements\n",
    "x_sc=bq.LinearScale()\n",
    "y_sc=bq.LinearScale()\n",
    "\n",
    "x_ax=bq.Axis(\n",
    "    label=\"x(t)\",\n",
    "    scale=x_sc\n",
    ")\n",
    "\n",
    "y_ax=bq.Axis(\n",
    "    label=\"y(t)\",\n",
    "    scale=y_sc,\n",
    "    orientation = \"vertical\"\n",
    ")\n",
    "\n",
    "Line = bq.Lines(\n",
    "    x=x,\n",
    "    y=y,\n",
    "    scales={\"x\": x_sc, \"y\": y_sc}\n",
    ")\n",
    "\n",
    "fig=bq.Figure(\n",
    "    layout=Layout(width=\"500px\", height=\"300px\"),\n",
    "    axes=[x_ax, y_ax],\n",
    "    marks=[Line],\n",
    "    fig_margin=dict(top=10, bottom=40, left=50, right=10)\n",
    ")\n",
    "\n",
    "#fig"
   ]
  },
  {
   "cell_type": "code",
   "execution_count": 34,
   "id": "3c7f12f5-9e97-4fff-89ea-8ab2302c90d7",
   "metadata": {},
   "outputs": [
    {
     "data": {
      "application/vnd.jupyter.widget-view+json": {
       "model_id": "8f972b72c96d45ea873941b4c0d1c63a",
       "version_major": 2,
       "version_minor": 0
      },
      "text/plain": [
       "VBox(children=(Button(button_style='warning', description='Stop', icon='stop', layout=Layout(width='100px'), s…"
      ]
     },
     "execution_count": 34,
     "metadata": {},
     "output_type": "execute_result"
    }
   ],
   "source": [
    "box = VBox(\n",
    "    children=(fig, w12, wA),\n",
    "    layout=Layout(border=\"solid 2px gray\", width=\"510px\")\n",
    ")\n",
    "\n",
    "app = VBox(\n",
    "    children=(b_stop, box)\n",
    ")\n",
    "\n",
    "app"
   ]
  },
  {
   "cell_type": "code",
   "execution_count": 36,
   "id": "240cb55b-794a-4c2e-881e-fa7c8238ee97",
   "metadata": {},
   "outputs": [],
   "source": [
    "# Loop function\n",
    "def work():\n",
    "    global x\n",
    "    global y\n",
    "    \n",
    "    while flag:\n",
    "        A = wA.value\n",
    "        x = np.delete(x,0)\n",
    "        y = np.delete(y,0)\n",
    "        \n",
    "        x= np.append(x,x[-1]+dx)\n",
    "        noise = A*np.random.rand()\n",
    "        y = np.append(y, 1 + np.sin(x[-1]) + noise)\n",
    "        \n",
    "        w1.value = y[-1]\n",
    "        w2.value = str(np.round(y[-1],2))\n",
    "        \n",
    "        Line.x = x\n",
    "        Line.y = y\n",
    "        \n",
    "        time.sleep(0.05)"
   ]
  },
  {
   "cell_type": "code",
   "execution_count": 40,
   "id": "b585fd3b-2161-4588-88e4-e430921b1bbc",
   "metadata": {},
   "outputs": [
    {
     "data": {
      "application/vnd.jupyter.widget-view+json": {
       "model_id": "8f972b72c96d45ea873941b4c0d1c63a",
       "version_major": 2,
       "version_minor": 0
      },
      "text/plain": [
       "VBox(children=(Button(button_style='warning', description='Stop', icon='stop', layout=Layout(width='100px'), s…"
      ]
     },
     "metadata": {},
     "output_type": "display_data"
    }
   ],
   "source": [
    "flag = True\n",
    "\n",
    "thread = threading.Thread(target=work)\n",
    "\n",
    "display(app)\n",
    "\n",
    "thread.start()"
   ]
  },
  {
   "cell_type": "code",
   "execution_count": 41,
   "id": "aeeaeef7-9f61-4f97-9b32-bf133714862c",
   "metadata": {},
   "outputs": [
    {
     "data": {
      "text/plain": [
       "True"
      ]
     },
     "execution_count": 41,
     "metadata": {},
     "output_type": "execute_result"
    }
   ],
   "source": [
    "thread.is_alive()"
   ]
  },
  {
   "cell_type": "code",
   "execution_count": null,
   "id": "4aa448b3-3483-49a2-91e9-2a64a36ae5e7",
   "metadata": {},
   "outputs": [],
   "source": []
  }
 ],
 "metadata": {
  "kernelspec": {
   "display_name": "Python 3 (ipykernel)",
   "language": "python",
   "name": "python3"
  },
  "language_info": {
   "codemirror_mode": {
    "name": "ipython",
    "version": 3
   },
   "file_extension": ".py",
   "mimetype": "text/x-python",
   "name": "python",
   "nbconvert_exporter": "python",
   "pygments_lexer": "ipython3",
   "version": "3.11.0"
  }
 },
 "nbformat": 4,
 "nbformat_minor": 5
}
