{
 "cells": [
  {
   "cell_type": "markdown",
   "id": "2ae0759f-7c02-4664-8245-10f276c11f4d",
   "metadata": {},
   "source": [
    "# E_1.08 Physics: Exercise 1 - LDR Curve Profiling\n",
    "\n",
    "- University: Rhein-Waal University of Applied Sciences (Hochschule Rhein-Waal)\n",
    "- Course:  E_1.08 Physics: Mechanics, Electricity and Magentism, WS2022/23"
   ]
  },
  {
   "cell_type": "markdown",
   "id": "32b2dd84-8851-45b7-8ed9-fad60f517f5a",
   "metadata": {},
   "source": [
    "## Overview\n",
    "\n",
    "Expand overview here....\n"
   ]
  },
  {
   "cell_type": "markdown",
   "id": "40ed25cb-2a84-4eb5-84cb-a616fcd0b1ac",
   "metadata": {},
   "source": [
    "## Background preparation before starting the lab\n",
    "\n",
    "the following steps should have been done before startung the exercise:\n",
    "- [Install Anaconda](https://docs.anaconda.com/anaconda/install/index.html)\n",
    "- [Create the EEng Conda Environment](https://conda.io/projects/conda/en/latest/user-guide/tasks/manage-environments.html)\n",
    "- [Download Notebooks from Git Repo](https://github.com/rolfbecker/EE_1.08_2_EEng_LAB_WS2022)"
   ]
  },
  {
   "cell_type": "markdown",
   "id": "cd92fea9-1024-4723-b2e8-0fc943471c16",
   "metadata": {},
   "source": [
    "## Safety Considerations\n",
    "\n",
    "- **DO NOT** energize **ANY** circuit without prior review by the lab assistants, thay will make sure that the circuit is correctly connected, and if not, the will point out the necessary corrections.\n",
    "- **DO NOT** drop or hit **ANY** components, especially measuring instruments such as the multimeter, Luxmeter, etc.\n",
    "- For this specific exercise (*LDR Curve Profiling*), **DO NOT TOUCH** the bulb **during or after** use as it may be hot!!.\n",
    "\n",
    "<center>\n",
    "    <img src=\"./images/safety-bulb.png\" width=\"400px\"/>\n",
    "    <br>\n",
    "    <i></i>\n",
    "</center>"
   ]
  },
  {
   "cell_type": "markdown",
   "id": "28304d7b-2f3b-48a8-90e2-1fd2563e6d28",
   "metadata": {},
   "source": [
    "## List of Equipment\n",
    "\n",
    "**Make sure you have all the components and instruments listed below before you start**.\n",
    "\n",
    "Components:\n",
    "- x1 Breadboard\n",
    "- x1 LDR\n",
    "- x1 10K Ohm Resistor\n",
    "- x1 Arduino UNO with cable\n",
    "- Set of jumper cables\n",
    "- x1 light bulb\n",
    "- x1 Ceramic socket with dimmer attached\n",
    "- Stand/Holder\n",
    "\n",
    "Instruments:\n",
    "- x1 Multimeter\n",
    "- x1 Luxmeter"
   ]
  },
  {
   "cell_type": "markdown",
   "id": "2dc93e5c-ff0e-4383-8df7-a0cf26810aa3",
   "metadata": {},
   "source": [
    "## Circuit\n",
    "\n",
    "The diagrams below show the test circuit you must make for this exercise. In this diagram there are three connections:\n",
    "- Vcc 5V (from Arduino UNO)\n",
    "- GND (from Arduino UNO)\n",
    "- Analog Pin A5 (this connection is optional)\n",
    "\n",
    "<div style=\"display: flex;\">\n",
    "  <div style=\"float: left; width: 33.33%; padding: 5px;\">\n",
    "      <center>\n",
    "        <img src=\"./images/LDR-schem.png\" width=\"400px\"/>\n",
    "        <br>\n",
    "        <i>LDR test circuit. Schematic representation</i>\n",
    "      </center>\n",
    "  </div>\n",
    "  <div style=\"float: left; width: 33.33%; padding: 5px;\">\n",
    "      <center>\n",
    "    <img src=\"./images/LDR-bb.png\" width=\"400px\"/>\n",
    "    <br>\n",
    "    <i>LDR test circuit. Breadboard representation</i>\n",
    "      </center>\n",
    "  </div>\n",
    "</div>"
   ]
  },
  {
   "cell_type": "markdown",
   "id": "53a4cc7e-5f83-425d-8014-186d250653ff",
   "metadata": {},
   "source": [
    "## Setup\n",
    "\n",
    "<center>\n",
    "    <img src=\"./images/LDR-setup.png\" width=\"600px\"/>\n",
    "    <br>\n",
    "    <i>Description here. (Source: Source here)</i>\n",
    "</center>"
   ]
  }
 ],
 "metadata": {
  "kernelspec": {
   "display_name": "Python 3 (ipykernel)",
   "language": "python",
   "name": "python3"
  },
  "language_info": {
   "codemirror_mode": {
    "name": "ipython",
    "version": 3
   },
   "file_extension": ".py",
   "mimetype": "text/x-python",
   "name": "python",
   "nbconvert_exporter": "python",
   "pygments_lexer": "ipython3",
   "version": "3.10.7"
  }
 },
 "nbformat": 4,
 "nbformat_minor": 5
}
