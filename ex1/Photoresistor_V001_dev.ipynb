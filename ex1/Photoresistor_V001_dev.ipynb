{
 "cells": [
  {
   "cell_type": "markdown",
   "id": "2186a609-3d75-43f4-a43b-8a7ba2cff055",
   "metadata": {},
   "source": [
    "# Calibrate a CdS Photoresistor"
   ]
  },
  {
   "cell_type": "markdown",
   "id": "449f8c95-4259-481b-bdb3-5e603bd018a6",
   "metadata": {},
   "source": [
    "## Student Team: Replace the data below with yours!\n",
    "\n",
    "* **Team number:** 999\n",
    "* **Student A:** \n",
    "  * Name: Albert Einstein\n",
    "  * MatNo: 123456\n",
    "* **Student B:** \n",
    "  * Name: Bertrand Russell\n",
    "  * MatNo: 654321\n",
    "* **Student C:** \n",
    "  * Name: Carl Friedrich Gauss\n",
    "  * MatNo: 314159\n"
   ]
  },
  {
   "cell_type": "markdown",
   "id": "c68c4ad3-b5a4-4993-900c-34081527bb17",
   "metadata": {},
   "source": [
    "## Background\n",
    "https://en.wikipedia.org/wiki/Photoresistor"
   ]
  },
  {
   "cell_type": "code",
   "execution_count": 145,
   "id": "a699cd3c-cd11-4b97-9c97-d7250dae31a2",
   "metadata": {},
   "outputs": [],
   "source": [
    "import pandas as pd\n",
    "import numpy as np\n",
    "from numpy import log10\n",
    "from numpy.random import normal\n",
    "import matplotlib.pyplot as plt\n",
    "# ipywidgets"
   ]
  },
  {
   "cell_type": "markdown",
   "id": "0167e4e0-5559-43cd-82dd-5af9f922f9ef",
   "metadata": {},
   "source": [
    "## Simulate measurement data with white noise (Gaussian error)"
   ]
  },
  {
   "cell_type": "code",
   "execution_count": 140,
   "id": "b64efb23-38ad-448f-accd-91b5a7e98cac",
   "metadata": {},
   "outputs": [],
   "source": [
    "def LDRmodel(lux, m=-0.57, b=2.71e4):\n",
    "    return b*lux**m"
   ]
  },
  {
   "cell_type": "code",
   "execution_count": 142,
   "id": "851efb14-9a77-43eb-9f30-1c396e000912",
   "metadata": {},
   "outputs": [
    {
     "data": {
      "text/plain": [
       "100686.04708533375"
      ]
     },
     "execution_count": 142,
     "metadata": {},
     "output_type": "execute_result"
    }
   ],
   "source": [
    "LDRmodel(0.1)"
   ]
  },
  {
   "cell_type": "code",
   "execution_count": 134,
   "id": "6dac6209-8c14-45da-ba0e-4a548e11b13c",
   "metadata": {
    "tags": []
   },
   "outputs": [
    {
     "data": {
      "text/plain": [
       "5.002969290874406"
      ]
     },
     "execution_count": 134,
     "metadata": {},
     "output_type": "execute_result"
    }
   ],
   "source": [
    "log10(LDR(0.1))"
   ]
  },
  {
   "cell_type": "markdown",
   "id": "4df1edeb-eaea-4a73-acc4-2ddcfd916ace",
   "metadata": {},
   "source": [
    "**Voltage Divider**"
   ]
  },
  {
   "cell_type": "code",
   "execution_count": 143,
   "id": "873d5cea-a87b-4ab2-84a6-933eb77a4ba5",
   "metadata": {},
   "outputs": [],
   "source": [
    "def V1(V0,R1=1.e3,R2=1.e3):\n",
    "    return(R1/(R1+R2)*V0)"
   ]
  },
  {
   "cell_type": "code",
   "execution_count": 144,
   "id": "b72b88b1-0703-414c-b0ab-eafccb9d2740",
   "metadata": {},
   "outputs": [
    {
     "data": {
      "text/plain": [
       "1.5"
      ]
     },
     "execution_count": 144,
     "metadata": {},
     "output_type": "execute_result"
    }
   ],
   "source": [
    "V1(3)"
   ]
  },
  {
   "cell_type": "code",
   "execution_count": 135,
   "id": "d6c0de87-d3a1-4b0e-9584-ab9ec333e893",
   "metadata": {},
   "outputs": [],
   "source": [
    "lux_log = np.arange(-1.,3.001,0.5)"
   ]
  },
  {
   "cell_type": "code",
   "execution_count": 136,
   "id": "8249f42f-960c-4cd5-b68a-879bd30b9efd",
   "metadata": {},
   "outputs": [],
   "source": [
    "err = normal(loc=0.0, scale=0.1, size=len(lux_log))"
   ]
  },
  {
   "cell_type": "code",
   "execution_count": 137,
   "id": "dba1b4b5-d459-47f1-b31f-766c89569c3d",
   "metadata": {},
   "outputs": [
    {
     "ename": "ValueError",
     "evalue": "operands could not be broadcast together with shapes (41,) (9,) ",
     "output_type": "error",
     "traceback": [
      "\u001b[1;31m---------------------------------------------------------------------------\u001b[0m",
      "\u001b[1;31mValueError\u001b[0m                                Traceback (most recent call last)",
      "Cell \u001b[1;32mIn [137], line 1\u001b[0m\n\u001b[1;32m----> 1\u001b[0m LDRerr \u001b[38;5;241m=\u001b[39m \u001b[38;5;241m10\u001b[39m\u001b[38;5;241m*\u001b[39m\u001b[38;5;241m*\u001b[39m(\u001b[43mlog10\u001b[49m\u001b[43m(\u001b[49m\u001b[43mLDR\u001b[49m\u001b[43m(\u001b[49m\u001b[43mlux\u001b[49m\u001b[43m)\u001b[49m\u001b[43m)\u001b[49m\u001b[38;5;241;43m+\u001b[39;49m\u001b[43merr\u001b[49m)\n\u001b[0;32m      2\u001b[0m luxerr \u001b[38;5;241m=\u001b[39m \u001b[38;5;241m10\u001b[39m\u001b[38;5;241m*\u001b[39m\u001b[38;5;241m*\u001b[39m(log10(lux)\u001b[38;5;241m+\u001b[39merr)\n",
      "\u001b[1;31mValueError\u001b[0m: operands could not be broadcast together with shapes (41,) (9,) "
     ]
    }
   ],
   "source": [
    "LDRerr = 10**(log10(LDR(lux))+err)\n",
    "luxerr = 10**(log10(lux)+err)"
   ]
  },
  {
   "cell_type": "code",
   "execution_count": 129,
   "id": "4965d6b5-0171-4930-88cb-5c92c6f04df5",
   "metadata": {},
   "outputs": [],
   "source": [
    "luxerr2 = normal(loc=lux, scale=0.2*lux)"
   ]
  },
  {
   "cell_type": "code",
   "execution_count": 130,
   "id": "62693307-4941-4e8d-9dba-0d294004c7c5",
   "metadata": {},
   "outputs": [
    {
     "ename": "ValueError",
     "evalue": "operands could not be broadcast together with shapes (41,) (9,) ",
     "output_type": "error",
     "traceback": [
      "\u001b[1;31m---------------------------------------------------------------------------\u001b[0m",
      "\u001b[1;31mValueError\u001b[0m                                Traceback (most recent call last)",
      "Cell \u001b[1;32mIn [130], line 11\u001b[0m\n\u001b[0;32m      8\u001b[0m ax11\u001b[38;5;241m.\u001b[39mloglog(luxerr2,LDR(lux),\u001b[38;5;124m\"\u001b[39m\u001b[38;5;124m*\u001b[39m\u001b[38;5;124m\"\u001b[39m)\n\u001b[0;32m     10\u001b[0m ax12\u001b[38;5;241m.\u001b[39mplot(log10(lux),log10(LDR(lux)))\n\u001b[1;32m---> 11\u001b[0m ax12\u001b[38;5;241m.\u001b[39mplot(log10(lux),\u001b[43mlog10\u001b[49m\u001b[43m(\u001b[49m\u001b[43mLDR\u001b[49m\u001b[43m(\u001b[49m\u001b[43mlux\u001b[49m\u001b[43m)\u001b[49m\u001b[43m)\u001b[49m\u001b[38;5;241;43m+\u001b[39;49m\u001b[43merr\u001b[49m,\u001b[38;5;124m\"\u001b[39m\u001b[38;5;124m*\u001b[39m\u001b[38;5;124m\"\u001b[39m)\n\u001b[0;32m     13\u001b[0m ax11\u001b[38;5;241m.\u001b[39mgrid(\u001b[38;5;28;01mTrue\u001b[39;00m)\n\u001b[0;32m     14\u001b[0m ax12\u001b[38;5;241m.\u001b[39mgrid(\u001b[38;5;28;01mTrue\u001b[39;00m)\n",
      "\u001b[1;31mValueError\u001b[0m: operands could not be broadcast together with shapes (41,) (9,) "
     ]
    },
    {
     "data": {
      "image/png": "[encoded data removed]",
      "text/plain": [
       "<Figure size 1000x1000 with 4 Axes>"
      ]
     },
     "metadata": {},
     "output_type": "display_data"
    }
   ],
   "source": [
    "fig1,ax1 = plt.subplots(2,2, figsize=(10,10))\n",
    "[[ax11, ax12],[ax21, ax22]] = ax1\n",
    "#[ax11, ax12] = ax1\n",
    "\n",
    "ax11.loglog(lux,LDR(lux))\n",
    "#ax11.loglog(lux,LDRerr,\"*\")\n",
    "ax11.loglog(luxerr,LDR(lux),\"*\")\n",
    "ax11.loglog(luxerr2,LDR(lux),\"*\")\n",
    "\n",
    "ax12.plot(log10(lux),log10(LDR(lux)))\n",
    "ax12.plot(log10(lux),log10(LDR(lux))+err,\"*\")\n",
    "\n",
    "ax11.grid(True)\n",
    "ax12.grid(True)\n",
    "\n",
    "ax21.plot(lux,LDR(lux))\n",
    "ax21.plot(luxerr2,LDR(lux),\"*\")\n",
    "\n",
    "ax22.plot(lux,LDR(lux))\n",
    "ax22.plot(lux,LDRerr,\"*\")\n",
    "\n",
    "plt.plot()"
   ]
  },
  {
   "cell_type": "code",
   "execution_count": 72,
   "id": "9e0da223-6a1b-4e0c-ba79-850feecb9c57",
   "metadata": {},
   "outputs": [
    {
     "data": {
      "text/plain": [
       "array([70531.18479528, 95557.97749877, 69579.6722164 , 70536.96672918,\n",
       "       62694.76494535, 46528.04391103, 34435.37475961, 48317.19397368,\n",
       "       35305.52267749, 37416.35889399, 26259.60506179, 17548.66812305,\n",
       "       18038.12876347, 18895.63134934, 15227.12672303,  8323.16173347,\n",
       "       20088.7929361 , 13548.65243789,  7503.80159597,  8187.28548172,\n",
       "        7418.52267286,  6459.0224067 ,  5453.26651579,  4837.791301  ,\n",
       "        6733.85031817,  4340.63676914,  2592.66115194,  3288.49670599,\n",
       "        1847.90669476,  2380.55854613,  1509.3799879 ,  1383.95944125,\n",
       "        1862.33616081,  1505.71277788,  1566.70113336,  1719.60903365,\n",
       "         905.33408453,   757.6748053 ,   599.39222959,   523.70511549,\n",
       "         713.88566704])"
      ]
     },
     "execution_count": 72,
     "metadata": {},
     "output_type": "execute_result"
    }
   ],
   "source": [
    "10**(log10(LDR(lux))+err)"
   ]
  },
  {
   "cell_type": "code",
   "execution_count": 88,
   "id": "ce8a71ba-386a-4838-96c3-60657c983f6d",
   "metadata": {},
   "outputs": [
    {
     "data": {
      "text/plain": [
       "array([8.42418475e-02, 1.08865165e+02])"
      ]
     },
     "execution_count": 88,
     "metadata": {},
     "output_type": "execute_result"
    }
   ],
   "source": [
    "normal(loc=[0, 100], scale=[0.1, 10])"
   ]
  },
  {
   "cell_type": "code",
   "execution_count": 108,
   "id": "23621caa-8a45-4ab8-aef4-d0909be80d09",
   "metadata": {},
   "outputs": [],
   "source": [
    "data = \\\n",
    "'''\n",
    "X, Y\n",
    "a, v\n",
    "2, 4\n",
    "'''"
   ]
  },
  {
   "cell_type": "code",
   "execution_count": 110,
   "id": "b577f9a6-bf31-4e11-abf0-fd48e3b03ef6",
   "metadata": {},
   "outputs": [],
   "source": [
    "from io import StringIO\n",
    "dataIO = StringIO(data)"
   ]
  },
  {
   "cell_type": "code",
   "execution_count": 111,
   "id": "45a7fdf5-c1a8-4f77-b068-af13b22aed7c",
   "metadata": {},
   "outputs": [
    {
     "data": {
      "text/html": [
       "<div>\n",
       "<style scoped>\n",
       "    .dataframe tbody tr th:only-of-type {\n",
       "        vertical-align: middle;\n",
       "    }\n",
       "\n",
       "    .dataframe tbody tr th {\n",
       "        vertical-align: top;\n",
       "    }\n",
       "\n",
       "    .dataframe thead th {\n",
       "        text-align: right;\n",
       "    }\n",
       "</style>\n",
       "<table border=\"1\" class=\"dataframe\">\n",
       "  <thead>\n",
       "    <tr style=\"text-align: right;\">\n",
       "      <th></th>\n",
       "      <th>X</th>\n",
       "      <th>Y</th>\n",
       "    </tr>\n",
       "  </thead>\n",
       "  <tbody>\n",
       "    <tr>\n",
       "      <th>0</th>\n",
       "      <td>a</td>\n",
       "      <td>v</td>\n",
       "    </tr>\n",
       "    <tr>\n",
       "      <th>1</th>\n",
       "      <td>2</td>\n",
       "      <td>4</td>\n",
       "    </tr>\n",
       "  </tbody>\n",
       "</table>\n",
       "</div>"
      ],
      "text/plain": [
       "   X   Y\n",
       "0  a   v\n",
       "1  2   4"
      ]
     },
     "execution_count": 111,
     "metadata": {},
     "output_type": "execute_result"
    }
   ],
   "source": [
    "pd.read_csv(dataIO)"
   ]
  },
  {
   "cell_type": "code",
   "execution_count": 118,
   "id": "eb4997f6-ca43-4523-acb6-e9629c764a82",
   "metadata": {},
   "outputs": [
    {
     "data": {
      "text/html": [
       "<div>\n",
       "<style scoped>\n",
       "    .dataframe tbody tr th:only-of-type {\n",
       "        vertical-align: middle;\n",
       "    }\n",
       "\n",
       "    .dataframe tbody tr th {\n",
       "        vertical-align: top;\n",
       "    }\n",
       "\n",
       "    .dataframe thead th {\n",
       "        text-align: right;\n",
       "    }\n",
       "</style>\n",
       "<table border=\"1\" class=\"dataframe\">\n",
       "  <thead>\n",
       "    <tr style=\"text-align: right;\">\n",
       "      <th></th>\n",
       "      <th>Y</th>\n",
       "    </tr>\n",
       "    <tr>\n",
       "      <th>X</th>\n",
       "      <th></th>\n",
       "    </tr>\n",
       "  </thead>\n",
       "  <tbody>\n",
       "    <tr>\n",
       "      <th>1.0</th>\n",
       "      <td>1.0</td>\n",
       "    </tr>\n",
       "    <tr>\n",
       "      <th>2.0</th>\n",
       "      <td>4.0</td>\n",
       "    </tr>\n",
       "    <tr>\n",
       "      <th>3.0</th>\n",
       "      <td>9.0</td>\n",
       "    </tr>\n",
       "  </tbody>\n",
       "</table>\n",
       "</div>"
      ],
      "text/plain": [
       "       Y\n",
       "X       \n",
       "1.0  1.0\n",
       "2.0  4.0\n",
       "3.0  9.0"
      ]
     },
     "execution_count": 118,
     "metadata": {},
     "output_type": "execute_result"
    }
   ],
   "source": [
    "df = pd.read_csv(\"data.txt\", index_col=0)\n",
    "df"
   ]
  },
  {
   "cell_type": "code",
   "execution_count": 125,
   "id": "982d33be-94d9-4d46-919a-bb9311a19f9c",
   "metadata": {},
   "outputs": [
    {
     "data": {
      "text/plain": [
       "<AxesSubplot: xlabel='X'>"
      ]
     },
     "execution_count": 125,
     "metadata": {},
     "output_type": "execute_result"
    },
    {
     "data": {
      "image/png": "[encoded data removed]",
      "text/plain": [
       "<Figure size 640x480 with 1 Axes>"
      ]
     },
     "metadata": {},
     "output_type": "display_data"
    }
   ],
   "source": [
    "df.plot(style=\"-*\", color=\"k\")"
   ]
  },
  {
   "cell_type": "code",
   "execution_count": null,
   "id": "3e394714-17f0-4954-acf7-7be0caf350a4",
   "metadata": {},
   "outputs": [],
   "source": []
  }
 ],
 "metadata": {
  "kernelspec": {
   "display_name": "Python 3 (ipykernel)",
   "language": "python",
   "name": "python3"
  },
  "language_info": {
   "codemirror_mode": {
    "name": "ipython",
    "version": 3
   },
   "file_extension": ".py",
   "mimetype": "text/x-python",
   "name": "python",
   "nbconvert_exporter": "python",
   "pygments_lexer": "ipython3",
   "version": "3.9.13"
  }
 },
 "nbformat": 4,
 "nbformat_minor": 5
}
