{
 "cells": [
  {
   "cell_type": "markdown",
   "id": "2186a609-3d75-43f4-a43b-8a7ba2cff055",
   "metadata": {},
   "source": [
    "# Calibrate a CdS Photoresistor\n",
    "\n",
    "https://en.wikipedia.org/wiki/Photoresistor"
   ]
  },
  {
   "cell_type": "code",
   "execution_count": null,
   "id": "a699cd3c-cd11-4b97-9c97-d7250dae31a2",
   "metadata": {},
   "outputs": [],
   "source": []
  }
 ],
 "metadata": {
  "kernelspec": {
   "display_name": "Python 3 (ipykernel)",
   "language": "python",
   "name": "python3"
  },
  "language_info": {
   "codemirror_mode": {
    "name": "ipython",
    "version": 3
   },
   "file_extension": ".py",
   "mimetype": "text/x-python",
   "name": "python",
   "nbconvert_exporter": "python",
   "pygments_lexer": "ipython3",
   "version": "3.9.13"
  }
 },
 "nbformat": 4,
 "nbformat_minor": 5
}
