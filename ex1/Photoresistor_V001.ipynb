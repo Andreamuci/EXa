{
 "cells": [
  {
   "cell_type": "markdown",
   "id": "2186a609-3d75-43f4-a43b-8a7ba2cff055",
   "metadata": {},
   "source": [
    "# Calibrate a CdS Photoresistor\n",
    "\n",
    "https://en.wikipedia.org/wiki/Photoresistor"
   ]
  },
  {
   "cell_type": "code",
   "execution_count": 1,
   "id": "a699cd3c-cd11-4b97-9c97-d7250dae31a2",
   "metadata": {},
   "outputs": [],
   "source": [
    "import pandas as pd\n",
    "import numpy as np\n",
    "from numpy import log10\n",
    "from numpy.random import normal\n",
    "import matplotlib.pyplot as plt"
   ]
  },
  {
   "cell_type": "code",
   "execution_count": 4,
   "id": "ddd3a8e4-b8f2-4346-8e77-2cdd83db7fe2",
   "metadata": {},
   "outputs": [
    {
     "data": {
      "text/html": [
       "<div>\n",
       "<style scoped>\n",
       "    .dataframe tbody tr th:only-of-type {\n",
       "        vertical-align: middle;\n",
       "    }\n",
       "\n",
       "    .dataframe tbody tr th {\n",
       "        vertical-align: top;\n",
       "    }\n",
       "\n",
       "    .dataframe thead th {\n",
       "        text-align: right;\n",
       "    }\n",
       "</style>\n",
       "<table border=\"1\" class=\"dataframe\">\n",
       "  <thead>\n",
       "    <tr style=\"text-align: right;\">\n",
       "      <th></th>\n",
       "      <th>lux</th>\n",
       "      <th>LDR</th>\n",
       "      <th>DV1</th>\n",
       "    </tr>\n",
       "  </thead>\n",
       "  <tbody>\n",
       "    <tr>\n",
       "      <th>0</th>\n",
       "      <td>0.078444</td>\n",
       "      <td>100686.047085</td>\n",
       "      <td>0.451728</td>\n",
       "    </tr>\n",
       "    <tr>\n",
       "      <th>1</th>\n",
       "      <td>0.144888</td>\n",
       "      <td>90456.270657</td>\n",
       "      <td>0.497729</td>\n",
       "    </tr>\n",
       "    <tr>\n",
       "      <th>2</th>\n",
       "      <td>0.143423</td>\n",
       "      <td>81265.847037</td>\n",
       "      <td>0.547850</td>\n",
       "    </tr>\n",
       "    <tr>\n",
       "      <th>3</th>\n",
       "      <td>0.192963</td>\n",
       "      <td>73009.177215</td>\n",
       "      <td>0.602343</td>\n",
       "    </tr>\n",
       "    <tr>\n",
       "      <th>4</th>\n",
       "      <td>0.219374</td>\n",
       "      <td>65591.391119</td>\n",
       "      <td>0.661451</td>\n",
       "    </tr>\n",
       "  </tbody>\n",
       "</table>\n",
       "</div>"
      ],
      "text/plain": [
       "        lux            LDR       DV1\n",
       "0  0.078444  100686.047085  0.451728\n",
       "1  0.144888   90456.270657  0.497729\n",
       "2  0.143423   81265.847037  0.547850\n",
       "3  0.192963   73009.177215  0.602343\n",
       "4  0.219374   65591.391119  0.661451"
      ]
     },
     "execution_count": 4,
     "metadata": {},
     "output_type": "execute_result"
    }
   ],
   "source": [
    "df = pd.read_csv(\"./data/Delta_V1.txt\")\n",
    "df.head()"
   ]
  },
  {
   "cell_type": "markdown",
   "id": "62c3d8ee-a8b9-47ef-8aa6-0e8e8fc40b12",
   "metadata": {},
   "source": [
    "Voltage divider: The ratio of voltage drops is equivalent to the ratio resistances:\n",
    "\n",
    "$$\n",
    "\\begin{eqnarray}\n",
    "& &\\frac{R_2}{R_1}=\\frac{\\Delta{V}_2}{\\Delta{V}_1}=\\frac{V_0-\\Delta{V}_1}{\\Delta{V}_1} \\\\\n",
    "&\\Leftrightarrow&{R_2}=R_1\\left( \\frac{V_0-\\Delta{V}_1}{\\Delta{V}_1} \\right)\n",
    "\\end{eqnarray}\n",
    "$$\n"
   ]
  },
  {
   "cell_type": "markdown",
   "id": "8b56f8bf-f162-4a62-869b-4310be3d3046",
   "metadata": {},
   "source": [
    "$$\n",
    "\\Delta{V}_1 = V_0 \\frac{R_1}{R_1 + R_2}\n",
    "$$\n",
    "\n",
    "\n",
    "$$\n",
    "\\frac{V_0}{\\Delta{V}_1} = \\frac{R_1+R_2}{R_1} = \\frac{R_2}{R_1} + 1\n",
    "$$\n",
    "\n",
    "$$\n",
    "\\frac{V_0}{\\Delta{V}_1}-1 =  \\frac{R_2}{R_1}\n",
    "$$\n"
   ]
  },
  {
   "cell_type": "code",
   "execution_count": 6,
   "id": "0ac9015e-2de8-4c13-89a0-10b0e4cb70ba",
   "metadata": {},
   "outputs": [],
   "source": [
    "V0 = 5\n",
    "R1 = 10e3"
   ]
  },
  {
   "cell_type": "code",
   "execution_count": 8,
   "id": "a61c3021-5ca2-400a-b8cf-17a0699875ed",
   "metadata": {},
   "outputs": [],
   "source": [
    "R2 = R1*(V0-df.DV1)/df.DV1"
   ]
  },
  {
   "cell_type": "code",
   "execution_count": 12,
   "id": "39061f2e-3ff0-46bd-9ea0-173efec0783b",
   "metadata": {},
   "outputs": [
    {
     "data": {
      "text/plain": [
       "<AxesSubplot: >"
      ]
     },
     "execution_count": 12,
     "metadata": {},
     "output_type": "execute_result"
    },
    {
     "data": {
      "image/png": "[encoded data removed]",
      "text/plain": [
       "<Figure size 640x480 with 1 Axes>"
      ]
     },
     "metadata": {},
     "output_type": "display_data"
    }
   ],
   "source": [
    "R2.plot(logx=True, logy=True)"
   ]
  },
  {
   "cell_type": "code",
   "execution_count": null,
   "id": "dd084cb1-1fbc-47af-ae40-36fe551cea3d",
   "metadata": {},
   "outputs": [],
   "source": []
  }
 ],
 "metadata": {
  "kernelspec": {
   "display_name": "Python 3 (ipykernel)",
   "language": "python",
   "name": "python3"
  },
  "language_info": {
   "codemirror_mode": {
    "name": "ipython",
    "version": 3
   },
   "file_extension": ".py",
   "mimetype": "text/x-python",
   "name": "python",
   "nbconvert_exporter": "python",
   "pygments_lexer": "ipython3",
   "version": "3.10.7"
  }
 },
 "nbformat": 4,
 "nbformat_minor": 5
}
